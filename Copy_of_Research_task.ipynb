{
  "nbformat": 4,
  "nbformat_minor": 0,
  "metadata": {
    "colab": {
      "name": "Copy of Research task.ipynb",
      "provenance": [],
      "toc_visible": true
    },
    "kernelspec": {
      "name": "python3",
      "display_name": "Python 3"
    },
    "widgets": {
      "application/vnd.jupyter.widget-state+json": {
        "04c57f331b604f8db40e5c52d16c3a68": {
          "model_module": "@jupyter-widgets/controls",
          "model_name": "HBoxModel",
          "state": {
            "_view_name": "HBoxView",
            "_dom_classes": [],
            "_model_name": "HBoxModel",
            "_view_module": "@jupyter-widgets/controls",
            "_model_module_version": "1.5.0",
            "_view_count": null,
            "_view_module_version": "1.5.0",
            "box_style": "",
            "layout": "IPY_MODEL_e1d2446857f54a66a8769369ef1d3eec",
            "_model_module": "@jupyter-widgets/controls",
            "children": [
              "IPY_MODEL_3a42ccfaa44349e3b148d870622ddab2",
              "IPY_MODEL_b469ed4e95e142c6b862d3fd21bbf10e"
            ]
          }
        },
        "e1d2446857f54a66a8769369ef1d3eec": {
          "model_module": "@jupyter-widgets/base",
          "model_name": "LayoutModel",
          "state": {
            "_view_name": "LayoutView",
            "grid_template_rows": null,
            "right": null,
            "justify_content": null,
            "_view_module": "@jupyter-widgets/base",
            "overflow": null,
            "_model_module_version": "1.2.0",
            "_view_count": null,
            "flex_flow": null,
            "width": null,
            "min_width": null,
            "border": null,
            "align_items": null,
            "bottom": null,
            "_model_module": "@jupyter-widgets/base",
            "top": null,
            "grid_column": null,
            "overflow_y": null,
            "overflow_x": null,
            "grid_auto_flow": null,
            "grid_area": null,
            "grid_template_columns": null,
            "flex": null,
            "_model_name": "LayoutModel",
            "justify_items": null,
            "grid_row": null,
            "max_height": null,
            "align_content": null,
            "visibility": null,
            "align_self": null,
            "height": null,
            "min_height": null,
            "padding": null,
            "grid_auto_rows": null,
            "grid_gap": null,
            "max_width": null,
            "order": null,
            "_view_module_version": "1.2.0",
            "grid_template_areas": null,
            "object_position": null,
            "object_fit": null,
            "grid_auto_columns": null,
            "margin": null,
            "display": null,
            "left": null
          }
        },
        "3a42ccfaa44349e3b148d870622ddab2": {
          "model_module": "@jupyter-widgets/controls",
          "model_name": "FloatProgressModel",
          "state": {
            "_view_name": "ProgressView",
            "style": "IPY_MODEL_b0d23d56054a40d7865bdd98a3c1b5fe",
            "_dom_classes": [],
            "description": "Epochs: 100%",
            "_model_name": "FloatProgressModel",
            "bar_style": "success",
            "max": 2,
            "_view_module": "@jupyter-widgets/controls",
            "_model_module_version": "1.5.0",
            "value": 2,
            "_view_count": null,
            "_view_module_version": "1.5.0",
            "orientation": "horizontal",
            "min": 0,
            "description_tooltip": null,
            "_model_module": "@jupyter-widgets/controls",
            "layout": "IPY_MODEL_18aa09590c384b1e9e74a5e84982068d"
          }
        },
        "b469ed4e95e142c6b862d3fd21bbf10e": {
          "model_module": "@jupyter-widgets/controls",
          "model_name": "HTMLModel",
          "state": {
            "_view_name": "HTMLView",
            "style": "IPY_MODEL_a8bcafd08524462da3ae88e32ae35d38",
            "_dom_classes": [],
            "description": "",
            "_model_name": "HTMLModel",
            "placeholder": "​",
            "_view_module": "@jupyter-widgets/controls",
            "_model_module_version": "1.5.0",
            "value": " 2/2 [03:02&lt;00:00, 91.24s/it]",
            "_view_count": null,
            "_view_module_version": "1.5.0",
            "description_tooltip": null,
            "_model_module": "@jupyter-widgets/controls",
            "layout": "IPY_MODEL_3c0e450d9f774547b83c62f5dfc975b7"
          }
        },
        "b0d23d56054a40d7865bdd98a3c1b5fe": {
          "model_module": "@jupyter-widgets/controls",
          "model_name": "ProgressStyleModel",
          "state": {
            "_view_name": "StyleView",
            "_model_name": "ProgressStyleModel",
            "description_width": "initial",
            "_view_module": "@jupyter-widgets/base",
            "_model_module_version": "1.5.0",
            "_view_count": null,
            "_view_module_version": "1.2.0",
            "bar_color": null,
            "_model_module": "@jupyter-widgets/controls"
          }
        },
        "18aa09590c384b1e9e74a5e84982068d": {
          "model_module": "@jupyter-widgets/base",
          "model_name": "LayoutModel",
          "state": {
            "_view_name": "LayoutView",
            "grid_template_rows": null,
            "right": null,
            "justify_content": null,
            "_view_module": "@jupyter-widgets/base",
            "overflow": null,
            "_model_module_version": "1.2.0",
            "_view_count": null,
            "flex_flow": null,
            "width": null,
            "min_width": null,
            "border": null,
            "align_items": null,
            "bottom": null,
            "_model_module": "@jupyter-widgets/base",
            "top": null,
            "grid_column": null,
            "overflow_y": null,
            "overflow_x": null,
            "grid_auto_flow": null,
            "grid_area": null,
            "grid_template_columns": null,
            "flex": null,
            "_model_name": "LayoutModel",
            "justify_items": null,
            "grid_row": null,
            "max_height": null,
            "align_content": null,
            "visibility": null,
            "align_self": null,
            "height": null,
            "min_height": null,
            "padding": null,
            "grid_auto_rows": null,
            "grid_gap": null,
            "max_width": null,
            "order": null,
            "_view_module_version": "1.2.0",
            "grid_template_areas": null,
            "object_position": null,
            "object_fit": null,
            "grid_auto_columns": null,
            "margin": null,
            "display": null,
            "left": null
          }
        },
        "a8bcafd08524462da3ae88e32ae35d38": {
          "model_module": "@jupyter-widgets/controls",
          "model_name": "DescriptionStyleModel",
          "state": {
            "_view_name": "StyleView",
            "_model_name": "DescriptionStyleModel",
            "description_width": "",
            "_view_module": "@jupyter-widgets/base",
            "_model_module_version": "1.5.0",
            "_view_count": null,
            "_view_module_version": "1.2.0",
            "_model_module": "@jupyter-widgets/controls"
          }
        },
        "3c0e450d9f774547b83c62f5dfc975b7": {
          "model_module": "@jupyter-widgets/base",
          "model_name": "LayoutModel",
          "state": {
            "_view_name": "LayoutView",
            "grid_template_rows": null,
            "right": null,
            "justify_content": null,
            "_view_module": "@jupyter-widgets/base",
            "overflow": null,
            "_model_module_version": "1.2.0",
            "_view_count": null,
            "flex_flow": null,
            "width": null,
            "min_width": null,
            "border": null,
            "align_items": null,
            "bottom": null,
            "_model_module": "@jupyter-widgets/base",
            "top": null,
            "grid_column": null,
            "overflow_y": null,
            "overflow_x": null,
            "grid_auto_flow": null,
            "grid_area": null,
            "grid_template_columns": null,
            "flex": null,
            "_model_name": "LayoutModel",
            "justify_items": null,
            "grid_row": null,
            "max_height": null,
            "align_content": null,
            "visibility": null,
            "align_self": null,
            "height": null,
            "min_height": null,
            "padding": null,
            "grid_auto_rows": null,
            "grid_gap": null,
            "max_width": null,
            "order": null,
            "_view_module_version": "1.2.0",
            "grid_template_areas": null,
            "object_position": null,
            "object_fit": null,
            "grid_auto_columns": null,
            "margin": null,
            "display": null,
            "left": null
          }
        },
        "a6801b5393d043eba1f475ab25034b23": {
          "model_module": "@jupyter-widgets/controls",
          "model_name": "HBoxModel",
          "state": {
            "_view_name": "HBoxView",
            "_dom_classes": [],
            "_model_name": "HBoxModel",
            "_view_module": "@jupyter-widgets/controls",
            "_model_module_version": "1.5.0",
            "_view_count": null,
            "_view_module_version": "1.5.0",
            "box_style": "",
            "layout": "IPY_MODEL_6e6190c3ff0142b0af86c336276b69fa",
            "_model_module": "@jupyter-widgets/controls",
            "children": [
              "IPY_MODEL_277abe821041410c991e2cffeae81513",
              "IPY_MODEL_21ebd4cc86ed4e939370b78e77cc1f0b"
            ]
          }
        },
        "6e6190c3ff0142b0af86c336276b69fa": {
          "model_module": "@jupyter-widgets/base",
          "model_name": "LayoutModel",
          "state": {
            "_view_name": "LayoutView",
            "grid_template_rows": null,
            "right": null,
            "justify_content": null,
            "_view_module": "@jupyter-widgets/base",
            "overflow": null,
            "_model_module_version": "1.2.0",
            "_view_count": null,
            "flex_flow": null,
            "width": null,
            "min_width": null,
            "border": null,
            "align_items": null,
            "bottom": null,
            "_model_module": "@jupyter-widgets/base",
            "top": null,
            "grid_column": null,
            "overflow_y": null,
            "overflow_x": null,
            "grid_auto_flow": null,
            "grid_area": null,
            "grid_template_columns": null,
            "flex": null,
            "_model_name": "LayoutModel",
            "justify_items": null,
            "grid_row": null,
            "max_height": null,
            "align_content": null,
            "visibility": null,
            "align_self": null,
            "height": null,
            "min_height": null,
            "padding": null,
            "grid_auto_rows": null,
            "grid_gap": null,
            "max_width": null,
            "order": null,
            "_view_module_version": "1.2.0",
            "grid_template_areas": null,
            "object_position": null,
            "object_fit": null,
            "grid_auto_columns": null,
            "margin": null,
            "display": null,
            "left": null
          }
        },
        "277abe821041410c991e2cffeae81513": {
          "model_module": "@jupyter-widgets/controls",
          "model_name": "FloatProgressModel",
          "state": {
            "_view_name": "ProgressView",
            "style": "IPY_MODEL_6eee08f2d8ae48918e0e66165909cd64",
            "_dom_classes": [],
            "description": "Training Batches: 100%",
            "_model_name": "FloatProgressModel",
            "bar_style": "",
            "max": 37,
            "_view_module": "@jupyter-widgets/controls",
            "_model_module_version": "1.5.0",
            "value": 37,
            "_view_count": null,
            "_view_module_version": "1.5.0",
            "orientation": "horizontal",
            "min": 0,
            "description_tooltip": null,
            "_model_module": "@jupyter-widgets/controls",
            "layout": "IPY_MODEL_88a09b96d454495fa4631ff4ac95fa82"
          }
        },
        "21ebd4cc86ed4e939370b78e77cc1f0b": {
          "model_module": "@jupyter-widgets/controls",
          "model_name": "HTMLModel",
          "state": {
            "_view_name": "HTMLView",
            "style": "IPY_MODEL_4a5fdd14eddd4348a7cc5908f658f70a",
            "_dom_classes": [],
            "description": "",
            "_model_name": "HTMLModel",
            "placeholder": "​",
            "_view_module": "@jupyter-widgets/controls",
            "_model_module_version": "1.5.0",
            "value": " 37/37 [01:32&lt;00:00,  2.48s/it]",
            "_view_count": null,
            "_view_module_version": "1.5.0",
            "description_tooltip": null,
            "_model_module": "@jupyter-widgets/controls",
            "layout": "IPY_MODEL_08b6eacb8b044529b8ea1d2748ec2184"
          }
        },
        "6eee08f2d8ae48918e0e66165909cd64": {
          "model_module": "@jupyter-widgets/controls",
          "model_name": "ProgressStyleModel",
          "state": {
            "_view_name": "StyleView",
            "_model_name": "ProgressStyleModel",
            "description_width": "initial",
            "_view_module": "@jupyter-widgets/base",
            "_model_module_version": "1.5.0",
            "_view_count": null,
            "_view_module_version": "1.2.0",
            "bar_color": null,
            "_model_module": "@jupyter-widgets/controls"
          }
        },
        "88a09b96d454495fa4631ff4ac95fa82": {
          "model_module": "@jupyter-widgets/base",
          "model_name": "LayoutModel",
          "state": {
            "_view_name": "LayoutView",
            "grid_template_rows": null,
            "right": null,
            "justify_content": null,
            "_view_module": "@jupyter-widgets/base",
            "overflow": null,
            "_model_module_version": "1.2.0",
            "_view_count": null,
            "flex_flow": null,
            "width": null,
            "min_width": null,
            "border": null,
            "align_items": null,
            "bottom": null,
            "_model_module": "@jupyter-widgets/base",
            "top": null,
            "grid_column": null,
            "overflow_y": null,
            "overflow_x": null,
            "grid_auto_flow": null,
            "grid_area": null,
            "grid_template_columns": null,
            "flex": null,
            "_model_name": "LayoutModel",
            "justify_items": null,
            "grid_row": null,
            "max_height": null,
            "align_content": null,
            "visibility": null,
            "align_self": null,
            "height": null,
            "min_height": null,
            "padding": null,
            "grid_auto_rows": null,
            "grid_gap": null,
            "max_width": null,
            "order": null,
            "_view_module_version": "1.2.0",
            "grid_template_areas": null,
            "object_position": null,
            "object_fit": null,
            "grid_auto_columns": null,
            "margin": null,
            "display": null,
            "left": null
          }
        },
        "4a5fdd14eddd4348a7cc5908f658f70a": {
          "model_module": "@jupyter-widgets/controls",
          "model_name": "DescriptionStyleModel",
          "state": {
            "_view_name": "StyleView",
            "_model_name": "DescriptionStyleModel",
            "description_width": "",
            "_view_module": "@jupyter-widgets/base",
            "_model_module_version": "1.5.0",
            "_view_count": null,
            "_view_module_version": "1.2.0",
            "_model_module": "@jupyter-widgets/controls"
          }
        },
        "08b6eacb8b044529b8ea1d2748ec2184": {
          "model_module": "@jupyter-widgets/base",
          "model_name": "LayoutModel",
          "state": {
            "_view_name": "LayoutView",
            "grid_template_rows": null,
            "right": null,
            "justify_content": null,
            "_view_module": "@jupyter-widgets/base",
            "overflow": null,
            "_model_module_version": "1.2.0",
            "_view_count": null,
            "flex_flow": null,
            "width": null,
            "min_width": null,
            "border": null,
            "align_items": null,
            "bottom": null,
            "_model_module": "@jupyter-widgets/base",
            "top": null,
            "grid_column": null,
            "overflow_y": null,
            "overflow_x": null,
            "grid_auto_flow": null,
            "grid_area": null,
            "grid_template_columns": null,
            "flex": null,
            "_model_name": "LayoutModel",
            "justify_items": null,
            "grid_row": null,
            "max_height": null,
            "align_content": null,
            "visibility": null,
            "align_self": null,
            "height": null,
            "min_height": null,
            "padding": null,
            "grid_auto_rows": null,
            "grid_gap": null,
            "max_width": null,
            "order": null,
            "_view_module_version": "1.2.0",
            "grid_template_areas": null,
            "object_position": null,
            "object_fit": null,
            "grid_auto_columns": null,
            "margin": null,
            "display": null,
            "left": null
          }
        },
        "2a22caf10c834a8b852e1d4d9e188f3a": {
          "model_module": "@jupyter-widgets/controls",
          "model_name": "HBoxModel",
          "state": {
            "_view_name": "HBoxView",
            "_dom_classes": [],
            "_model_name": "HBoxModel",
            "_view_module": "@jupyter-widgets/controls",
            "_model_module_version": "1.5.0",
            "_view_count": null,
            "_view_module_version": "1.5.0",
            "box_style": "",
            "layout": "IPY_MODEL_9bd7d010f517440c9fe18d75193f6640",
            "_model_module": "@jupyter-widgets/controls",
            "children": [
              "IPY_MODEL_6ee434b5cd0f4bd082eb35acf4191305",
              "IPY_MODEL_fe9136ecf0ea49a2b87c50878898f751"
            ]
          }
        },
        "9bd7d010f517440c9fe18d75193f6640": {
          "model_module": "@jupyter-widgets/base",
          "model_name": "LayoutModel",
          "state": {
            "_view_name": "LayoutView",
            "grid_template_rows": null,
            "right": null,
            "justify_content": null,
            "_view_module": "@jupyter-widgets/base",
            "overflow": null,
            "_model_module_version": "1.2.0",
            "_view_count": null,
            "flex_flow": null,
            "width": null,
            "min_width": null,
            "border": null,
            "align_items": null,
            "bottom": null,
            "_model_module": "@jupyter-widgets/base",
            "top": null,
            "grid_column": null,
            "overflow_y": null,
            "overflow_x": null,
            "grid_auto_flow": null,
            "grid_area": null,
            "grid_template_columns": null,
            "flex": null,
            "_model_name": "LayoutModel",
            "justify_items": null,
            "grid_row": null,
            "max_height": null,
            "align_content": null,
            "visibility": null,
            "align_self": null,
            "height": null,
            "min_height": null,
            "padding": null,
            "grid_auto_rows": null,
            "grid_gap": null,
            "max_width": null,
            "order": null,
            "_view_module_version": "1.2.0",
            "grid_template_areas": null,
            "object_position": null,
            "object_fit": null,
            "grid_auto_columns": null,
            "margin": null,
            "display": null,
            "left": null
          }
        },
        "6ee434b5cd0f4bd082eb35acf4191305": {
          "model_module": "@jupyter-widgets/controls",
          "model_name": "FloatProgressModel",
          "state": {
            "_view_name": "ProgressView",
            "style": "IPY_MODEL_da6b61e5eb914fc18d92a8c25bb1c751",
            "_dom_classes": [],
            "description": "Training Batches: 100%",
            "_model_name": "FloatProgressModel",
            "bar_style": "",
            "max": 37,
            "_view_module": "@jupyter-widgets/controls",
            "_model_module_version": "1.5.0",
            "value": 37,
            "_view_count": null,
            "_view_module_version": "1.5.0",
            "orientation": "horizontal",
            "min": 0,
            "description_tooltip": null,
            "_model_module": "@jupyter-widgets/controls",
            "layout": "IPY_MODEL_7b341e05faa94894855f41e40703f162"
          }
        },
        "fe9136ecf0ea49a2b87c50878898f751": {
          "model_module": "@jupyter-widgets/controls",
          "model_name": "HTMLModel",
          "state": {
            "_view_name": "HTMLView",
            "style": "IPY_MODEL_c44f03bd5cde43d9b4f72b55531c20db",
            "_dom_classes": [],
            "description": "",
            "_model_name": "HTMLModel",
            "placeholder": "​",
            "_view_module": "@jupyter-widgets/controls",
            "_model_module_version": "1.5.0",
            "value": " 37/37 [01:29&lt;00:00,  2.27s/it]",
            "_view_count": null,
            "_view_module_version": "1.5.0",
            "description_tooltip": null,
            "_model_module": "@jupyter-widgets/controls",
            "layout": "IPY_MODEL_c15c7c37a89a4ee28e13c1f762ffd787"
          }
        },
        "da6b61e5eb914fc18d92a8c25bb1c751": {
          "model_module": "@jupyter-widgets/controls",
          "model_name": "ProgressStyleModel",
          "state": {
            "_view_name": "StyleView",
            "_model_name": "ProgressStyleModel",
            "description_width": "initial",
            "_view_module": "@jupyter-widgets/base",
            "_model_module_version": "1.5.0",
            "_view_count": null,
            "_view_module_version": "1.2.0",
            "bar_color": null,
            "_model_module": "@jupyter-widgets/controls"
          }
        },
        "7b341e05faa94894855f41e40703f162": {
          "model_module": "@jupyter-widgets/base",
          "model_name": "LayoutModel",
          "state": {
            "_view_name": "LayoutView",
            "grid_template_rows": null,
            "right": null,
            "justify_content": null,
            "_view_module": "@jupyter-widgets/base",
            "overflow": null,
            "_model_module_version": "1.2.0",
            "_view_count": null,
            "flex_flow": null,
            "width": null,
            "min_width": null,
            "border": null,
            "align_items": null,
            "bottom": null,
            "_model_module": "@jupyter-widgets/base",
            "top": null,
            "grid_column": null,
            "overflow_y": null,
            "overflow_x": null,
            "grid_auto_flow": null,
            "grid_area": null,
            "grid_template_columns": null,
            "flex": null,
            "_model_name": "LayoutModel",
            "justify_items": null,
            "grid_row": null,
            "max_height": null,
            "align_content": null,
            "visibility": null,
            "align_self": null,
            "height": null,
            "min_height": null,
            "padding": null,
            "grid_auto_rows": null,
            "grid_gap": null,
            "max_width": null,
            "order": null,
            "_view_module_version": "1.2.0",
            "grid_template_areas": null,
            "object_position": null,
            "object_fit": null,
            "grid_auto_columns": null,
            "margin": null,
            "display": null,
            "left": null
          }
        },
        "c44f03bd5cde43d9b4f72b55531c20db": {
          "model_module": "@jupyter-widgets/controls",
          "model_name": "DescriptionStyleModel",
          "state": {
            "_view_name": "StyleView",
            "_model_name": "DescriptionStyleModel",
            "description_width": "",
            "_view_module": "@jupyter-widgets/base",
            "_model_module_version": "1.5.0",
            "_view_count": null,
            "_view_module_version": "1.2.0",
            "_model_module": "@jupyter-widgets/controls"
          }
        },
        "c15c7c37a89a4ee28e13c1f762ffd787": {
          "model_module": "@jupyter-widgets/base",
          "model_name": "LayoutModel",
          "state": {
            "_view_name": "LayoutView",
            "grid_template_rows": null,
            "right": null,
            "justify_content": null,
            "_view_module": "@jupyter-widgets/base",
            "overflow": null,
            "_model_module_version": "1.2.0",
            "_view_count": null,
            "flex_flow": null,
            "width": null,
            "min_width": null,
            "border": null,
            "align_items": null,
            "bottom": null,
            "_model_module": "@jupyter-widgets/base",
            "top": null,
            "grid_column": null,
            "overflow_y": null,
            "overflow_x": null,
            "grid_auto_flow": null,
            "grid_area": null,
            "grid_template_columns": null,
            "flex": null,
            "_model_name": "LayoutModel",
            "justify_items": null,
            "grid_row": null,
            "max_height": null,
            "align_content": null,
            "visibility": null,
            "align_self": null,
            "height": null,
            "min_height": null,
            "padding": null,
            "grid_auto_rows": null,
            "grid_gap": null,
            "max_width": null,
            "order": null,
            "_view_module_version": "1.2.0",
            "grid_template_areas": null,
            "object_position": null,
            "object_fit": null,
            "grid_auto_columns": null,
            "margin": null,
            "display": null,
            "left": null
          }
        },
        "ec88e1b495f24cac852106e5319906c6": {
          "model_module": "@jupyter-widgets/controls",
          "model_name": "HBoxModel",
          "state": {
            "_view_name": "HBoxView",
            "_dom_classes": [],
            "_model_name": "HBoxModel",
            "_view_module": "@jupyter-widgets/controls",
            "_model_module_version": "1.5.0",
            "_view_count": null,
            "_view_module_version": "1.5.0",
            "box_style": "",
            "layout": "IPY_MODEL_a00131b77ffa4aee8ac0934cad6aa1fc",
            "_model_module": "@jupyter-widgets/controls",
            "children": [
              "IPY_MODEL_19b7efac17da4667b0da12cc1edf8fde",
              "IPY_MODEL_39a69172933342749fd093b0872d1f15"
            ]
          }
        },
        "a00131b77ffa4aee8ac0934cad6aa1fc": {
          "model_module": "@jupyter-widgets/base",
          "model_name": "LayoutModel",
          "state": {
            "_view_name": "LayoutView",
            "grid_template_rows": null,
            "right": null,
            "justify_content": null,
            "_view_module": "@jupyter-widgets/base",
            "overflow": null,
            "_model_module_version": "1.2.0",
            "_view_count": null,
            "flex_flow": null,
            "width": null,
            "min_width": null,
            "border": null,
            "align_items": null,
            "bottom": null,
            "_model_module": "@jupyter-widgets/base",
            "top": null,
            "grid_column": null,
            "overflow_y": null,
            "overflow_x": null,
            "grid_auto_flow": null,
            "grid_area": null,
            "grid_template_columns": null,
            "flex": null,
            "_model_name": "LayoutModel",
            "justify_items": null,
            "grid_row": null,
            "max_height": null,
            "align_content": null,
            "visibility": null,
            "align_self": null,
            "height": null,
            "min_height": null,
            "padding": null,
            "grid_auto_rows": null,
            "grid_gap": null,
            "max_width": null,
            "order": null,
            "_view_module_version": "1.2.0",
            "grid_template_areas": null,
            "object_position": null,
            "object_fit": null,
            "grid_auto_columns": null,
            "margin": null,
            "display": null,
            "left": null
          }
        },
        "19b7efac17da4667b0da12cc1edf8fde": {
          "model_module": "@jupyter-widgets/controls",
          "model_name": "FloatProgressModel",
          "state": {
            "_view_name": "ProgressView",
            "style": "IPY_MODEL_f42d03208b0f4382a636d23b3b371072",
            "_dom_classes": [],
            "description": "Test Batches: 100%",
            "_model_name": "FloatProgressModel",
            "bar_style": "",
            "max": 11,
            "_view_module": "@jupyter-widgets/controls",
            "_model_module_version": "1.5.0",
            "value": 11,
            "_view_count": null,
            "_view_module_version": "1.5.0",
            "orientation": "horizontal",
            "min": 0,
            "description_tooltip": null,
            "_model_module": "@jupyter-widgets/controls",
            "layout": "IPY_MODEL_85a00ca7804740f6b6a16ccd71437db4"
          }
        },
        "39a69172933342749fd093b0872d1f15": {
          "model_module": "@jupyter-widgets/controls",
          "model_name": "HTMLModel",
          "state": {
            "_view_name": "HTMLView",
            "style": "IPY_MODEL_b19e1674b02441babc5c7d1ca86ae8bc",
            "_dom_classes": [],
            "description": "",
            "_model_name": "HTMLModel",
            "placeholder": "​",
            "_view_module": "@jupyter-widgets/controls",
            "_model_module_version": "1.5.0",
            "value": " 11/11 [00:16&lt;00:00,  1.43s/it]",
            "_view_count": null,
            "_view_module_version": "1.5.0",
            "description_tooltip": null,
            "_model_module": "@jupyter-widgets/controls",
            "layout": "IPY_MODEL_585b3089751e4c81acde466798ec9310"
          }
        },
        "f42d03208b0f4382a636d23b3b371072": {
          "model_module": "@jupyter-widgets/controls",
          "model_name": "ProgressStyleModel",
          "state": {
            "_view_name": "StyleView",
            "_model_name": "ProgressStyleModel",
            "description_width": "initial",
            "_view_module": "@jupyter-widgets/base",
            "_model_module_version": "1.5.0",
            "_view_count": null,
            "_view_module_version": "1.2.0",
            "bar_color": null,
            "_model_module": "@jupyter-widgets/controls"
          }
        },
        "85a00ca7804740f6b6a16ccd71437db4": {
          "model_module": "@jupyter-widgets/base",
          "model_name": "LayoutModel",
          "state": {
            "_view_name": "LayoutView",
            "grid_template_rows": null,
            "right": null,
            "justify_content": null,
            "_view_module": "@jupyter-widgets/base",
            "overflow": null,
            "_model_module_version": "1.2.0",
            "_view_count": null,
            "flex_flow": null,
            "width": null,
            "min_width": null,
            "border": null,
            "align_items": null,
            "bottom": null,
            "_model_module": "@jupyter-widgets/base",
            "top": null,
            "grid_column": null,
            "overflow_y": null,
            "overflow_x": null,
            "grid_auto_flow": null,
            "grid_area": null,
            "grid_template_columns": null,
            "flex": null,
            "_model_name": "LayoutModel",
            "justify_items": null,
            "grid_row": null,
            "max_height": null,
            "align_content": null,
            "visibility": null,
            "align_self": null,
            "height": null,
            "min_height": null,
            "padding": null,
            "grid_auto_rows": null,
            "grid_gap": null,
            "max_width": null,
            "order": null,
            "_view_module_version": "1.2.0",
            "grid_template_areas": null,
            "object_position": null,
            "object_fit": null,
            "grid_auto_columns": null,
            "margin": null,
            "display": null,
            "left": null
          }
        },
        "b19e1674b02441babc5c7d1ca86ae8bc": {
          "model_module": "@jupyter-widgets/controls",
          "model_name": "DescriptionStyleModel",
          "state": {
            "_view_name": "StyleView",
            "_model_name": "DescriptionStyleModel",
            "description_width": "",
            "_view_module": "@jupyter-widgets/base",
            "_model_module_version": "1.5.0",
            "_view_count": null,
            "_view_module_version": "1.2.0",
            "_model_module": "@jupyter-widgets/controls"
          }
        },
        "585b3089751e4c81acde466798ec9310": {
          "model_module": "@jupyter-widgets/base",
          "model_name": "LayoutModel",
          "state": {
            "_view_name": "LayoutView",
            "grid_template_rows": null,
            "right": null,
            "justify_content": null,
            "_view_module": "@jupyter-widgets/base",
            "overflow": null,
            "_model_module_version": "1.2.0",
            "_view_count": null,
            "flex_flow": null,
            "width": null,
            "min_width": null,
            "border": null,
            "align_items": null,
            "bottom": null,
            "_model_module": "@jupyter-widgets/base",
            "top": null,
            "grid_column": null,
            "overflow_y": null,
            "overflow_x": null,
            "grid_auto_flow": null,
            "grid_area": null,
            "grid_template_columns": null,
            "flex": null,
            "_model_name": "LayoutModel",
            "justify_items": null,
            "grid_row": null,
            "max_height": null,
            "align_content": null,
            "visibility": null,
            "align_self": null,
            "height": null,
            "min_height": null,
            "padding": null,
            "grid_auto_rows": null,
            "grid_gap": null,
            "max_width": null,
            "order": null,
            "_view_module_version": "1.2.0",
            "grid_template_areas": null,
            "object_position": null,
            "object_fit": null,
            "grid_auto_columns": null,
            "margin": null,
            "display": null,
            "left": null
          }
        }
      }
    }
  },
  "cells": [
    {
      "cell_type": "code",
      "metadata": {
        "id": "LP6qNUmXw0P3"
      },
      "source": [
        "import pandas as pd\n",
        "import torch\n",
        "import numpy as np"
      ],
      "execution_count": 1,
      "outputs": []
    },
    {
      "cell_type": "markdown",
      "metadata": {
        "id": "TzEJLV_OErj2"
      },
      "source": [
        "# **Dataset Build**"
      ]
    },
    {
      "cell_type": "code",
      "metadata": {
        "id": "yiwiW0BVxtar"
      },
      "source": [
        "with open('/content/drive/MyDrive/research task/train.txt', encoding='UTF-8') as f:\n",
        "  train_contents = f.read()\n",
        "\n",
        "\n",
        "with open('/content/drive/MyDrive/research task/test.txt', encoding='UTF-8') as f:\n",
        "  test_contents = f.read()"
      ],
      "execution_count": 2,
      "outputs": []
    },
    {
      "cell_type": "code",
      "metadata": {
        "id": "FTp8VsIX6Okz"
      },
      "source": [
        "def get_dataset_from_contents(contents):\n",
        "  result = []\n",
        "  start = 0\n",
        "  while start < len(contents):\n",
        "    \n",
        "    idx_source_end = contents.find('\\n', start+1)\n",
        "    idx_reference_end = contents.find('\\n', idx_source_end+1)\n",
        "    idx_candidate_end = contents.find('\\n', idx_reference_end+1)\n",
        "    idx_bleu_score_end = contents.find('\\n', idx_candidate_end+1)\n",
        "    idx_label_end = contents.find('\\n', idx_bleu_score_end+1)\n",
        "    \n",
        "    source = contents[start:idx_source_end].strip('\\n')\n",
        "    reference = contents[idx_source_end:idx_reference_end].strip('\\n')\n",
        "    candidate = contents[idx_reference_end:idx_candidate_end].strip('\\n')\n",
        "    bleu_score = contents[idx_candidate_end:idx_bleu_score_end].strip('\\n')\n",
        "    label = contents[idx_bleu_score_end:idx_label_end].strip('\\n')\n",
        "\n",
        "    start = idx_label_end + len('\\n')\n",
        "    \n",
        "    result.append((source, reference, candidate, bleu_score, label))\n",
        "\n",
        "  return result"
      ],
      "execution_count": 3,
      "outputs": []
    },
    {
      "cell_type": "code",
      "metadata": {
        "id": "VvxfV_IM6Pj0"
      },
      "source": [
        "train_read_dataset = get_dataset_from_contents(train_contents)\n",
        "test_read_dataset = get_dataset_from_contents(test_contents)"
      ],
      "execution_count": 4,
      "outputs": []
    },
    {
      "cell_type": "markdown",
      "metadata": {
        "id": "FPF_II7T5xwR"
      },
      "source": [
        "# **Dataset Exploration**"
      ]
    },
    {
      "cell_type": "code",
      "metadata": {
        "id": "-tcmdgZZ-A7R"
      },
      "source": [
        "def get_dataset_statistics(dataset):\n",
        "  max_len_source = 0\n",
        "  max_len_reference = 0\n",
        "  max_len_candidate = 0\n",
        "\n",
        "  total_len_source = 0\n",
        "  total_len_reference = 0\n",
        "  total_len_candidate = 0\n",
        "  total_machine_candidate = 0\n",
        "  total_human_candidate = 0\n",
        "  for (source, reference, candidate, bleu_score, label) in dataset:\n",
        "    max_len_source = max(max_len_source, len(source))\n",
        "    max_len_reference = max(max_len_reference, len(reference))\n",
        "    max_len_candidate = max(max_len_candidate, len(candidate))\n",
        "\n",
        "    total_len_source += len(source)\n",
        "    total_len_reference += len(reference)\n",
        "    total_len_candidate += len(candidate)\n",
        "    total_machine_candidate += (label == 'M')\n",
        "    total_human_candidate += (label == 'H')\n",
        "\n",
        "  return max_len_source, max_len_reference, max_len_candidate, total_len_source/len(dataset), total_len_reference/len(dataset), total_len_candidate/len(dataset), total_machine_candidate, total_human_candidate"
      ],
      "execution_count": 5,
      "outputs": []
    },
    {
      "cell_type": "code",
      "metadata": {
        "colab": {
          "base_uri": "https://localhost:8080/"
        },
        "id": "dQXVChEL9jKM",
        "outputId": "112ae322-d8b1-40ba-d890-e86f193dc2aa"
      },
      "source": [
        "max_len_source, max_len_reference, max_len_candidate, av_len_source, av_len_reference, av_len_candidate, total_machine_candidate, total_human_candidate = get_dataset_statistics(train_read_dataset+test_read_dataset)\n",
        "print('Max length of source:', max_len_source)\n",
        "print('Max length of reference:', max_len_reference)\n",
        "print('Max length of candidate:', max_len_candidate)\n",
        "print('Average length of source:', av_len_source)\n",
        "print('Average length of reference:', av_len_reference)\n",
        "print('Average length of candidate:', av_len_candidate)\n",
        "print('Total machine candidates:', total_machine_candidate)\n",
        "print('Total human candidates:', total_human_candidate)"
      ],
      "execution_count": 6,
      "outputs": [
        {
          "output_type": "stream",
          "text": [
            "Max length of source: 238\n",
            "Max length of reference: 637\n",
            "Max length of candidate: 634\n",
            "Average length of source: 76.10554089709763\n",
            "Average length of reference: 174.7467018469657\n",
            "Average length of candidate: 168.08839050131925\n",
            "Total machine candidates: 354\n",
            "Total human candidates: 404\n"
          ],
          "name": "stdout"
        }
      ]
    },
    {
      "cell_type": "markdown",
      "metadata": {
        "id": "H_vGLpnqM2Qu"
      },
      "source": [
        "On average, source sentences (in Chinese) are smaller in length than reference and candidate sentences (in English). "
      ]
    },
    {
      "cell_type": "markdown",
      "metadata": {
        "id": "zCk3MGmM9qjd"
      },
      "source": [
        "47% of candidates are machine candidates and 53% are human candidates"
      ]
    },
    {
      "cell_type": "markdown",
      "metadata": {
        "id": "k70wf8fX9c4a"
      },
      "source": [
        "# Model development"
      ]
    },
    {
      "cell_type": "code",
      "metadata": {
        "id": "-P4865H8Ip5h",
        "colab": {
          "base_uri": "https://localhost:8080/"
        },
        "outputId": "d4185fbb-322f-4344-8327-49d5bbdf2c1e"
      },
      "source": [
        "!pip install -U pip setuptools wheel\n",
        "!pip install -U spacy\n",
        "!python -m spacy download zh_core_web_sm\n",
        "!python -m spacy download en_core_web_sm"
      ],
      "execution_count": 7,
      "outputs": [
        {
          "output_type": "stream",
          "text": [
            "Requirement already satisfied: pip in /usr/local/lib/python3.6/dist-packages (21.0.1)\n",
            "Requirement already satisfied: setuptools in /usr/local/lib/python3.6/dist-packages (53.0.0)\n",
            "Requirement already satisfied: wheel in /usr/local/lib/python3.6/dist-packages (0.36.2)\n",
            "Requirement already satisfied: spacy in /usr/local/lib/python3.6/dist-packages (3.0.1)\n",
            "Requirement already satisfied: cymem<2.1.0,>=2.0.2 in /usr/local/lib/python3.6/dist-packages (from spacy) (2.0.5)\n",
            "Requirement already satisfied: wasabi<1.1.0,>=0.8.1 in /usr/local/lib/python3.6/dist-packages (from spacy) (0.8.2)\n",
            "Requirement already satisfied: catalogue<2.1.0,>=2.0.1 in /usr/local/lib/python3.6/dist-packages (from spacy) (2.0.1)\n",
            "Requirement already satisfied: setuptools in /usr/local/lib/python3.6/dist-packages (from spacy) (53.0.0)\n",
            "Requirement already satisfied: typing-extensions>=3.7.4 in /usr/local/lib/python3.6/dist-packages (from spacy) (3.7.4.3)\n",
            "Requirement already satisfied: blis<0.8.0,>=0.4.0 in /usr/local/lib/python3.6/dist-packages (from spacy) (0.4.1)\n",
            "Requirement already satisfied: typer<0.4.0,>=0.3.0 in /usr/local/lib/python3.6/dist-packages (from spacy) (0.3.2)\n",
            "Requirement already satisfied: importlib-metadata>=0.20 in /usr/local/lib/python3.6/dist-packages (from spacy) (3.4.0)\n",
            "Requirement already satisfied: requests<3.0.0,>=2.13.0 in /usr/local/lib/python3.6/dist-packages (from spacy) (2.23.0)\n",
            "Requirement already satisfied: pydantic<1.8.0,>=1.7.1 in /usr/local/lib/python3.6/dist-packages (from spacy) (1.7.3)\n",
            "Requirement already satisfied: numpy>=1.15.0 in /usr/local/lib/python3.6/dist-packages (from spacy) (1.19.5)\n",
            "Requirement already satisfied: thinc<8.1.0,>=8.0.0 in /usr/local/lib/python3.6/dist-packages (from spacy) (8.0.1)\n",
            "Requirement already satisfied: packaging>=20.0 in /usr/local/lib/python3.6/dist-packages (from spacy) (20.9)\n",
            "Requirement already satisfied: tqdm<5.0.0,>=4.38.0 in /usr/local/lib/python3.6/dist-packages (from spacy) (4.41.1)\n",
            "Requirement already satisfied: spacy-legacy<3.1.0,>=3.0.0 in /usr/local/lib/python3.6/dist-packages (from spacy) (3.0.1)\n",
            "Requirement already satisfied: pathy in /usr/local/lib/python3.6/dist-packages (from spacy) (0.3.5)\n",
            "Requirement already satisfied: jinja2 in /usr/local/lib/python3.6/dist-packages (from spacy) (2.11.3)\n",
            "Requirement already satisfied: preshed<3.1.0,>=3.0.2 in /usr/local/lib/python3.6/dist-packages (from spacy) (3.0.5)\n",
            "Requirement already satisfied: murmurhash<1.1.0,>=0.28.0 in /usr/local/lib/python3.6/dist-packages (from spacy) (1.0.5)\n",
            "Requirement already satisfied: srsly<3.0.0,>=2.4.0 in /usr/local/lib/python3.6/dist-packages (from spacy) (2.4.0)\n",
            "Requirement already satisfied: zipp>=0.5 in /usr/local/lib/python3.6/dist-packages (from importlib-metadata>=0.20->spacy) (3.4.0)\n",
            "Requirement already satisfied: pyparsing>=2.0.2 in /usr/local/lib/python3.6/dist-packages (from packaging>=20.0->spacy) (2.4.7)\n",
            "Requirement already satisfied: dataclasses>=0.6 in /usr/local/lib/python3.6/dist-packages (from pydantic<1.8.0,>=1.7.1->spacy) (0.8)\n",
            "Requirement already satisfied: certifi>=2017.4.17 in /usr/local/lib/python3.6/dist-packages (from requests<3.0.0,>=2.13.0->spacy) (2020.12.5)\n",
            "Requirement already satisfied: idna<3,>=2.5 in /usr/local/lib/python3.6/dist-packages (from requests<3.0.0,>=2.13.0->spacy) (2.10)\n",
            "Requirement already satisfied: urllib3!=1.25.0,!=1.25.1,<1.26,>=1.21.1 in /usr/local/lib/python3.6/dist-packages (from requests<3.0.0,>=2.13.0->spacy) (1.24.3)\n",
            "Requirement already satisfied: chardet<4,>=3.0.2 in /usr/local/lib/python3.6/dist-packages (from requests<3.0.0,>=2.13.0->spacy) (3.0.4)\n",
            "Requirement already satisfied: contextvars<3,>=2.4 in /usr/local/lib/python3.6/dist-packages (from thinc<8.1.0,>=8.0.0->spacy) (2.4)\n",
            "Requirement already satisfied: immutables>=0.9 in /usr/local/lib/python3.6/dist-packages (from contextvars<3,>=2.4->thinc<8.1.0,>=8.0.0->spacy) (0.14)\n",
            "Requirement already satisfied: click<7.2.0,>=7.1.1 in /usr/local/lib/python3.6/dist-packages (from typer<0.4.0,>=0.3.0->spacy) (7.1.2)\n",
            "Requirement already satisfied: MarkupSafe>=0.23 in /usr/local/lib/python3.6/dist-packages (from jinja2->spacy) (1.1.1)\n",
            "Requirement already satisfied: smart-open<4.0.0,>=2.2.0 in /usr/local/lib/python3.6/dist-packages (from pathy->spacy) (3.0.0)\n",
            "2021-02-07 01:08:07.004315: I tensorflow/stream_executor/platform/default/dso_loader.cc:49] Successfully opened dynamic library libcudart.so.10.1\n",
            "Collecting zh-core-web-sm==3.0.0\n",
            "  Downloading https://github.com/explosion/spacy-models/releases/download/zh_core_web_sm-3.0.0/zh_core_web_sm-3.0.0-py3-none-any.whl (49.5 MB)\n",
            "\u001b[K     |████████████████████████████████| 49.5 MB 48 kB/s \n",
            "\u001b[?25hRequirement already satisfied: spacy<3.1.0,>=3.0.0 in /usr/local/lib/python3.6/dist-packages (from zh-core-web-sm==3.0.0) (3.0.1)\n",
            "Requirement already satisfied: spacy-pkuseg<0.1.0,>=0.0.27 in /usr/local/lib/python3.6/dist-packages (from zh-core-web-sm==3.0.0) (0.0.28)\n",
            "Requirement already satisfied: srsly<3.0.0,>=2.4.0 in /usr/local/lib/python3.6/dist-packages (from spacy<3.1.0,>=3.0.0->zh-core-web-sm==3.0.0) (2.4.0)\n",
            "Requirement already satisfied: blis<0.8.0,>=0.4.0 in /usr/local/lib/python3.6/dist-packages (from spacy<3.1.0,>=3.0.0->zh-core-web-sm==3.0.0) (0.4.1)\n",
            "Requirement already satisfied: tqdm<5.0.0,>=4.38.0 in /usr/local/lib/python3.6/dist-packages (from spacy<3.1.0,>=3.0.0->zh-core-web-sm==3.0.0) (4.41.1)\n",
            "Requirement already satisfied: pydantic<1.8.0,>=1.7.1 in /usr/local/lib/python3.6/dist-packages (from spacy<3.1.0,>=3.0.0->zh-core-web-sm==3.0.0) (1.7.3)\n",
            "Requirement already satisfied: jinja2 in /usr/local/lib/python3.6/dist-packages (from spacy<3.1.0,>=3.0.0->zh-core-web-sm==3.0.0) (2.11.3)\n",
            "Requirement already satisfied: numpy>=1.15.0 in /usr/local/lib/python3.6/dist-packages (from spacy<3.1.0,>=3.0.0->zh-core-web-sm==3.0.0) (1.19.5)\n",
            "Requirement already satisfied: cymem<2.1.0,>=2.0.2 in /usr/local/lib/python3.6/dist-packages (from spacy<3.1.0,>=3.0.0->zh-core-web-sm==3.0.0) (2.0.5)\n",
            "Requirement already satisfied: requests<3.0.0,>=2.13.0 in /usr/local/lib/python3.6/dist-packages (from spacy<3.1.0,>=3.0.0->zh-core-web-sm==3.0.0) (2.23.0)\n",
            "Requirement already satisfied: typing-extensions>=3.7.4 in /usr/local/lib/python3.6/dist-packages (from spacy<3.1.0,>=3.0.0->zh-core-web-sm==3.0.0) (3.7.4.3)\n",
            "Requirement already satisfied: thinc<8.1.0,>=8.0.0 in /usr/local/lib/python3.6/dist-packages (from spacy<3.1.0,>=3.0.0->zh-core-web-sm==3.0.0) (8.0.1)\n",
            "Requirement already satisfied: packaging>=20.0 in /usr/local/lib/python3.6/dist-packages (from spacy<3.1.0,>=3.0.0->zh-core-web-sm==3.0.0) (20.9)\n",
            "Requirement already satisfied: murmurhash<1.1.0,>=0.28.0 in /usr/local/lib/python3.6/dist-packages (from spacy<3.1.0,>=3.0.0->zh-core-web-sm==3.0.0) (1.0.5)\n",
            "Requirement already satisfied: catalogue<2.1.0,>=2.0.1 in /usr/local/lib/python3.6/dist-packages (from spacy<3.1.0,>=3.0.0->zh-core-web-sm==3.0.0) (2.0.1)\n",
            "Requirement already satisfied: pathy in /usr/local/lib/python3.6/dist-packages (from spacy<3.1.0,>=3.0.0->zh-core-web-sm==3.0.0) (0.3.5)\n",
            "Requirement already satisfied: wasabi<1.1.0,>=0.8.1 in /usr/local/lib/python3.6/dist-packages (from spacy<3.1.0,>=3.0.0->zh-core-web-sm==3.0.0) (0.8.2)\n",
            "Requirement already satisfied: typer<0.4.0,>=0.3.0 in /usr/local/lib/python3.6/dist-packages (from spacy<3.1.0,>=3.0.0->zh-core-web-sm==3.0.0) (0.3.2)\n",
            "Requirement already satisfied: spacy-legacy<3.1.0,>=3.0.0 in /usr/local/lib/python3.6/dist-packages (from spacy<3.1.0,>=3.0.0->zh-core-web-sm==3.0.0) (3.0.1)\n",
            "Requirement already satisfied: importlib-metadata>=0.20 in /usr/local/lib/python3.6/dist-packages (from spacy<3.1.0,>=3.0.0->zh-core-web-sm==3.0.0) (3.4.0)\n",
            "Requirement already satisfied: preshed<3.1.0,>=3.0.2 in /usr/local/lib/python3.6/dist-packages (from spacy<3.1.0,>=3.0.0->zh-core-web-sm==3.0.0) (3.0.5)\n",
            "Requirement already satisfied: setuptools in /usr/local/lib/python3.6/dist-packages (from spacy<3.1.0,>=3.0.0->zh-core-web-sm==3.0.0) (53.0.0)\n",
            "Requirement already satisfied: zipp>=0.5 in /usr/local/lib/python3.6/dist-packages (from importlib-metadata>=0.20->spacy<3.1.0,>=3.0.0->zh-core-web-sm==3.0.0) (3.4.0)\n",
            "Requirement already satisfied: pyparsing>=2.0.2 in /usr/local/lib/python3.6/dist-packages (from packaging>=20.0->spacy<3.1.0,>=3.0.0->zh-core-web-sm==3.0.0) (2.4.7)\n",
            "Requirement already satisfied: dataclasses>=0.6 in /usr/local/lib/python3.6/dist-packages (from pydantic<1.8.0,>=1.7.1->spacy<3.1.0,>=3.0.0->zh-core-web-sm==3.0.0) (0.8)\n",
            "Requirement already satisfied: certifi>=2017.4.17 in /usr/local/lib/python3.6/dist-packages (from requests<3.0.0,>=2.13.0->spacy<3.1.0,>=3.0.0->zh-core-web-sm==3.0.0) (2020.12.5)\n",
            "Requirement already satisfied: idna<3,>=2.5 in /usr/local/lib/python3.6/dist-packages (from requests<3.0.0,>=2.13.0->spacy<3.1.0,>=3.0.0->zh-core-web-sm==3.0.0) (2.10)\n",
            "Requirement already satisfied: chardet<4,>=3.0.2 in /usr/local/lib/python3.6/dist-packages (from requests<3.0.0,>=2.13.0->spacy<3.1.0,>=3.0.0->zh-core-web-sm==3.0.0) (3.0.4)\n",
            "Requirement already satisfied: urllib3!=1.25.0,!=1.25.1,<1.26,>=1.21.1 in /usr/local/lib/python3.6/dist-packages (from requests<3.0.0,>=2.13.0->spacy<3.1.0,>=3.0.0->zh-core-web-sm==3.0.0) (1.24.3)\n",
            "Requirement already satisfied: cython>=0.25 in /usr/local/lib/python3.6/dist-packages (from spacy-pkuseg<0.1.0,>=0.0.27->zh-core-web-sm==3.0.0) (0.29.21)\n",
            "Requirement already satisfied: contextvars<3,>=2.4 in /usr/local/lib/python3.6/dist-packages (from thinc<8.1.0,>=8.0.0->spacy<3.1.0,>=3.0.0->zh-core-web-sm==3.0.0) (2.4)\n",
            "Requirement already satisfied: immutables>=0.9 in /usr/local/lib/python3.6/dist-packages (from contextvars<3,>=2.4->thinc<8.1.0,>=8.0.0->spacy<3.1.0,>=3.0.0->zh-core-web-sm==3.0.0) (0.14)\n",
            "Requirement already satisfied: click<7.2.0,>=7.1.1 in /usr/local/lib/python3.6/dist-packages (from typer<0.4.0,>=0.3.0->spacy<3.1.0,>=3.0.0->zh-core-web-sm==3.0.0) (7.1.2)\n",
            "Requirement already satisfied: MarkupSafe>=0.23 in /usr/local/lib/python3.6/dist-packages (from jinja2->spacy<3.1.0,>=3.0.0->zh-core-web-sm==3.0.0) (1.1.1)\n",
            "Requirement already satisfied: smart-open<4.0.0,>=2.2.0 in /usr/local/lib/python3.6/dist-packages (from pathy->spacy<3.1.0,>=3.0.0->zh-core-web-sm==3.0.0) (3.0.0)\n",
            "\u001b[38;5;2m✔ Download and installation successful\u001b[0m\n",
            "You can now load the package via spacy.load('zh_core_web_sm')\n",
            "2021-02-07 01:08:24.710141: I tensorflow/stream_executor/platform/default/dso_loader.cc:49] Successfully opened dynamic library libcudart.so.10.1\n",
            "Collecting en-core-web-sm==3.0.0\n",
            "  Downloading https://github.com/explosion/spacy-models/releases/download/en_core_web_sm-3.0.0/en_core_web_sm-3.0.0-py3-none-any.whl (13.7 MB)\n",
            "\u001b[K     |████████████████████████████████| 13.7 MB 101 kB/s \n",
            "\u001b[?25hRequirement already satisfied: spacy<3.1.0,>=3.0.0 in /usr/local/lib/python3.6/dist-packages (from en-core-web-sm==3.0.0) (3.0.1)\n",
            "Requirement already satisfied: preshed<3.1.0,>=3.0.2 in /usr/local/lib/python3.6/dist-packages (from spacy<3.1.0,>=3.0.0->en-core-web-sm==3.0.0) (3.0.5)\n",
            "Requirement already satisfied: spacy-legacy<3.1.0,>=3.0.0 in /usr/local/lib/python3.6/dist-packages (from spacy<3.1.0,>=3.0.0->en-core-web-sm==3.0.0) (3.0.1)\n",
            "Requirement already satisfied: requests<3.0.0,>=2.13.0 in /usr/local/lib/python3.6/dist-packages (from spacy<3.1.0,>=3.0.0->en-core-web-sm==3.0.0) (2.23.0)\n",
            "Requirement already satisfied: pathy in /usr/local/lib/python3.6/dist-packages (from spacy<3.1.0,>=3.0.0->en-core-web-sm==3.0.0) (0.3.5)\n",
            "Requirement already satisfied: setuptools in /usr/local/lib/python3.6/dist-packages (from spacy<3.1.0,>=3.0.0->en-core-web-sm==3.0.0) (53.0.0)\n",
            "Requirement already satisfied: importlib-metadata>=0.20 in /usr/local/lib/python3.6/dist-packages (from spacy<3.1.0,>=3.0.0->en-core-web-sm==3.0.0) (3.4.0)\n",
            "Requirement already satisfied: numpy>=1.15.0 in /usr/local/lib/python3.6/dist-packages (from spacy<3.1.0,>=3.0.0->en-core-web-sm==3.0.0) (1.19.5)\n",
            "Requirement already satisfied: packaging>=20.0 in /usr/local/lib/python3.6/dist-packages (from spacy<3.1.0,>=3.0.0->en-core-web-sm==3.0.0) (20.9)\n",
            "Requirement already satisfied: blis<0.8.0,>=0.4.0 in /usr/local/lib/python3.6/dist-packages (from spacy<3.1.0,>=3.0.0->en-core-web-sm==3.0.0) (0.4.1)\n",
            "Requirement already satisfied: jinja2 in /usr/local/lib/python3.6/dist-packages (from spacy<3.1.0,>=3.0.0->en-core-web-sm==3.0.0) (2.11.3)\n",
            "Requirement already satisfied: tqdm<5.0.0,>=4.38.0 in /usr/local/lib/python3.6/dist-packages (from spacy<3.1.0,>=3.0.0->en-core-web-sm==3.0.0) (4.41.1)\n",
            "Requirement already satisfied: typing-extensions>=3.7.4 in /usr/local/lib/python3.6/dist-packages (from spacy<3.1.0,>=3.0.0->en-core-web-sm==3.0.0) (3.7.4.3)\n",
            "Requirement already satisfied: thinc<8.1.0,>=8.0.0 in /usr/local/lib/python3.6/dist-packages (from spacy<3.1.0,>=3.0.0->en-core-web-sm==3.0.0) (8.0.1)\n",
            "Requirement already satisfied: typer<0.4.0,>=0.3.0 in /usr/local/lib/python3.6/dist-packages (from spacy<3.1.0,>=3.0.0->en-core-web-sm==3.0.0) (0.3.2)\n",
            "Requirement already satisfied: wasabi<1.1.0,>=0.8.1 in /usr/local/lib/python3.6/dist-packages (from spacy<3.1.0,>=3.0.0->en-core-web-sm==3.0.0) (0.8.2)\n",
            "Requirement already satisfied: cymem<2.1.0,>=2.0.2 in /usr/local/lib/python3.6/dist-packages (from spacy<3.1.0,>=3.0.0->en-core-web-sm==3.0.0) (2.0.5)\n",
            "Requirement already satisfied: pydantic<1.8.0,>=1.7.1 in /usr/local/lib/python3.6/dist-packages (from spacy<3.1.0,>=3.0.0->en-core-web-sm==3.0.0) (1.7.3)\n",
            "Requirement already satisfied: srsly<3.0.0,>=2.4.0 in /usr/local/lib/python3.6/dist-packages (from spacy<3.1.0,>=3.0.0->en-core-web-sm==3.0.0) (2.4.0)\n",
            "Requirement already satisfied: catalogue<2.1.0,>=2.0.1 in /usr/local/lib/python3.6/dist-packages (from spacy<3.1.0,>=3.0.0->en-core-web-sm==3.0.0) (2.0.1)\n",
            "Requirement already satisfied: murmurhash<1.1.0,>=0.28.0 in /usr/local/lib/python3.6/dist-packages (from spacy<3.1.0,>=3.0.0->en-core-web-sm==3.0.0) (1.0.5)\n",
            "Requirement already satisfied: zipp>=0.5 in /usr/local/lib/python3.6/dist-packages (from importlib-metadata>=0.20->spacy<3.1.0,>=3.0.0->en-core-web-sm==3.0.0) (3.4.0)\n",
            "Requirement already satisfied: pyparsing>=2.0.2 in /usr/local/lib/python3.6/dist-packages (from packaging>=20.0->spacy<3.1.0,>=3.0.0->en-core-web-sm==3.0.0) (2.4.7)\n",
            "Requirement already satisfied: dataclasses>=0.6 in /usr/local/lib/python3.6/dist-packages (from pydantic<1.8.0,>=1.7.1->spacy<3.1.0,>=3.0.0->en-core-web-sm==3.0.0) (0.8)\n",
            "Requirement already satisfied: urllib3!=1.25.0,!=1.25.1,<1.26,>=1.21.1 in /usr/local/lib/python3.6/dist-packages (from requests<3.0.0,>=2.13.0->spacy<3.1.0,>=3.0.0->en-core-web-sm==3.0.0) (1.24.3)\n",
            "Requirement already satisfied: chardet<4,>=3.0.2 in /usr/local/lib/python3.6/dist-packages (from requests<3.0.0,>=2.13.0->spacy<3.1.0,>=3.0.0->en-core-web-sm==3.0.0) (3.0.4)\n",
            "Requirement already satisfied: certifi>=2017.4.17 in /usr/local/lib/python3.6/dist-packages (from requests<3.0.0,>=2.13.0->spacy<3.1.0,>=3.0.0->en-core-web-sm==3.0.0) (2020.12.5)\n",
            "Requirement already satisfied: idna<3,>=2.5 in /usr/local/lib/python3.6/dist-packages (from requests<3.0.0,>=2.13.0->spacy<3.1.0,>=3.0.0->en-core-web-sm==3.0.0) (2.10)\n",
            "Requirement already satisfied: contextvars<3,>=2.4 in /usr/local/lib/python3.6/dist-packages (from thinc<8.1.0,>=8.0.0->spacy<3.1.0,>=3.0.0->en-core-web-sm==3.0.0) (2.4)\n",
            "Requirement already satisfied: immutables>=0.9 in /usr/local/lib/python3.6/dist-packages (from contextvars<3,>=2.4->thinc<8.1.0,>=8.0.0->spacy<3.1.0,>=3.0.0->en-core-web-sm==3.0.0) (0.14)\n",
            "Requirement already satisfied: click<7.2.0,>=7.1.1 in /usr/local/lib/python3.6/dist-packages (from typer<0.4.0,>=0.3.0->spacy<3.1.0,>=3.0.0->en-core-web-sm==3.0.0) (7.1.2)\n",
            "Requirement already satisfied: MarkupSafe>=0.23 in /usr/local/lib/python3.6/dist-packages (from jinja2->spacy<3.1.0,>=3.0.0->en-core-web-sm==3.0.0) (1.1.1)\n",
            "Requirement already satisfied: smart-open<4.0.0,>=2.2.0 in /usr/local/lib/python3.6/dist-packages (from pathy->spacy<3.1.0,>=3.0.0->en-core-web-sm==3.0.0) (3.0.0)\n",
            "\u001b[38;5;2m✔ Download and installation successful\u001b[0m\n",
            "You can now load the package via spacy.load('en_core_web_sm')\n"
          ],
          "name": "stdout"
        }
      ]
    },
    {
      "cell_type": "code",
      "metadata": {
        "id": "J05Ly3ab9Q0B"
      },
      "source": [
        "import nltk\n",
        "from collections import Counter\n",
        "import spacy\n",
        "\n",
        "nlp = spacy.load(\"en_core_web_sm\")\n",
        "chinese_nlp = spacy.load(\"zh_core_web_sm\")\n",
        "import json\n",
        "import math\n",
        "import os\n",
        "from pathlib import Path\n",
        "import random\n",
        "import time\n",
        "from tqdm.notebook import tqdm, trange\n",
        "from typing import Dict, List, Set, Tuple\n",
        "\n",
        "import numpy as np\n",
        "import torch\n",
        "import torch.nn as nn\n",
        "from torch.nn import init\n",
        "import torch.optim as optim\n",
        "from torch.utils.data import Dataset, DataLoader, SubsetRandomSampler\n",
        "from tqdm.notebook import tqdm, trange\n",
        "from time import time\n",
        "from torch import autograd"
      ],
      "execution_count": 8,
      "outputs": []
    },
    {
      "cell_type": "code",
      "metadata": {
        "id": "nSgEQ-X6GU8X"
      },
      "source": [
        "get_device = lambda : \"cuda:0\" if torch.cuda.is_available() else \"cpu\""
      ],
      "execution_count": 9,
      "outputs": []
    },
    {
      "cell_type": "code",
      "metadata": {
        "id": "ztY8rTjrGW2Z"
      },
      "source": [
        "def get_one_hot(one_loc, vector_size):\n",
        "  vec = [0] * vector_size\n",
        "  vec[one_loc] = 1\n",
        "  return vec  "
      ],
      "execution_count": 10,
      "outputs": []
    },
    {
      "cell_type": "code",
      "metadata": {
        "id": "EMrlXwSCGYcy"
      },
      "source": [
        "POS_TAGS_DICT = {'.': 0, ',': 1, '-LRB-': 2, '-RRB-': 3, '``': 4, '\"\"': 5, \"''\": 6, '$': 7, '#': 8, 'AFX': 9, 'CC': 10, 'CD': 11, 'DT': 12, 'EX': 13, 'FW': 14, 'HYPH': 15, 'IN': 16, 'JJ': 17, 'JJR': 18, 'JJS': 19, 'LS': 20, 'MD': 21, 'NIL': 22, 'NN': 23, 'NNP': 24, 'NNPS': 25, 'NNS': 26, 'PDT': 27, 'POS': 28, 'PRP': 29, 'PRP$': 30, 'RB': 31, 'RBR': 32, 'RBS': 33, 'RP': 34, 'SP': 35, 'SYM': 36, 'TO': 37, 'UH': 38, 'VB': 39, 'VBD': 40, 'VBG': 41, 'VBN': 42, 'VBP': 43, 'VBZ': 44, 'WDT': 45, 'WP': 46, 'WP$': 47, 'WRB': 48, 'ADD': 49, 'NFP': 50, 'GW': 51, 'XX': 52, 'BES': 53, 'HVS': 54, '_SP': 55}"
      ],
      "execution_count": 11,
      "outputs": []
    },
    {
      "cell_type": "code",
      "metadata": {
        "id": "Ch_PuStyGdpx"
      },
      "source": [
        "NER_TAGS_DICT = {'PERSON': 0, 'NORP': 1, 'FAC': 2, 'ORG': 3, 'GPE': 4, 'LOC': 5, 'PRODUCT': 6, 'EVENT': 7, 'WORK_OF_ART': 8, 'LAW': 9, 'LANGUAGE': 10, 'DATE': 11, 'TIME': 12, 'PERCENT': 13, 'MONEY': 14, 'QUANTITY': 15, 'ORDINAL': 16, 'CARDINAL': 17, '':18}"
      ],
      "execution_count": 13,
      "outputs": []
    },
    {
      "cell_type": "code",
      "metadata": {
        "id": "pc_mLZHvGk1Q"
      },
      "source": [
        "PAD = \"PAD_TOK\""
      ],
      "execution_count": 16,
      "outputs": []
    },
    {
      "cell_type": "code",
      "metadata": {
        "id": "88gjqfignmXm"
      },
      "source": [
        "SOURCE_INPUT_SEQUENCE_LENGTH = 240\n",
        "CAND_REF_INPUT_SEQUENCE_LENGTH = 640\n",
        "INPUT_SIZE = 173 #96 (word embeddings) + 20 (one-hot NER_TAG) + 57 (one-hot POS_TAG)\n",
        "PAD_VAL = 0.0"
      ],
      "execution_count": 21,
      "outputs": []
    },
    {
      "cell_type": "code",
      "metadata": {
        "id": "9SUvzIJFkzJz"
      },
      "source": [
        "def get_input_representation(list_of_words, language):\n",
        "  '''input is nlp(text)'''\n",
        "  result = []\n",
        "  \n",
        "  for token in list_of_words:\n",
        "    ner_vec = get_one_hot(NER_TAGS_DICT.get(token.ent_type_,len(NER_TAGS_DICT)),\n",
        "                          len(NER_TAGS_DICT)+1)\n",
        "    pos_vec = get_one_hot(POS_TAGS_DICT.get(token.tag_,len(POS_TAGS_DICT)),\n",
        "                          len(POS_TAGS_DICT)+1)\n",
        "    \n",
        "    result.append(token.vector.tolist() + ner_vec + pos_vec)\n",
        "\n",
        "  if language == 'Chinese':\n",
        "    max_len = SOURCE_INPUT_SEQUENCE_LENGTH\n",
        "  else: #language='English'\n",
        "    max_len = CAND_REF_INPUT_SEQUENCE_LENGTH\n",
        "  \n",
        "  result += [[PAD_VAL]*INPUT_SIZE]*(max_len - len(result))\n",
        "\n",
        "  return result\n"
      ],
      "execution_count": 22,
      "outputs": []
    },
    {
      "cell_type": "code",
      "metadata": {
        "id": "ubB-cXv_GnqW"
      },
      "source": [
        "class Mt_Classification_Dataset(Dataset):\n",
        "    def __init__(self, data):\n",
        "        self.data = data\n",
        "\n",
        "    def __len__(self):\n",
        "        return len(self.data)\n",
        "    \n",
        "    def __getitem__(self, index):\n",
        "\n",
        "        source, reference, candidate, bleu_score, label = self.data[index]\n",
        "\n",
        "        source_input_representation = torch.tensor(get_input_representation(chinese_nlp(source), 'Chinese'))\n",
        "\n",
        "        reference_input_representation = torch.tensor(get_input_representation(nlp(reference), 'English'))\n",
        "        \n",
        "        candidate_input_representation = torch.tensor(get_input_representation(nlp(candidate), 'English'))\n",
        "        \n",
        "        \n",
        "        int_label = torch.tensor(float(label == 'M')) #M = 1, H = 0\n",
        "\n",
        "        return source_input_representation,\\\n",
        "        reference_input_representation,\\\n",
        "        candidate_input_representation,\\\n",
        "        torch.tensor([float(bleu_score)]),\\\n",
        "        int_label\n"
      ],
      "execution_count": 25,
      "outputs": []
    },
    {
      "cell_type": "code",
      "metadata": {
        "id": "k31c8oJhqoes"
      },
      "source": [
        "train_dataset = Mt_Classification_Dataset(train_read_dataset)\n",
        "train_loader = DataLoader(train_dataset, batch_size=16, shuffle=True, num_workers = 0)#, drop_last=True)\n",
        "\n",
        "test_dataset = Mt_Classification_Dataset(test_read_dataset)\n",
        "test_loader = DataLoader(test_dataset, batch_size=16, shuffle=True, num_workers = 0)#, drop_last=True)"
      ],
      "execution_count": 26,
      "outputs": []
    },
    {
      "cell_type": "code",
      "metadata": {
        "id": "La-up36psa0x"
      },
      "source": [
        "class Classification_Model(nn.Module):\n",
        "  def __init__(self): \n",
        "\n",
        "    super(Classification_Model, self).__init__()\n",
        "\n",
        "    self.source_lstm = nn.LSTM(INPUT_SIZE, SOURCE_LSTM_HIDDEN_SIZE, SOURCE_LSTM_NUM_LAYERS, batch_first=True, dropout=0, bidirectional=True)\n",
        "    self.reference_lstm = nn.LSTM(INPUT_SIZE, REFERENCE_LSTM_HIDDEN_SIZE, REFERENCE_LSTM_NUM_LAYERS, batch_first=True, dropout=0, bidirectional=True)\n",
        "    self.candidate_lstm = nn.LSTM(INPUT_SIZE, CANDIDATE_LSTM_HIDDEN_SIZE, CANDIDATE_LSTM_NUM_LAYERS, batch_first=True, dropout=0, bidirectional=True)\n",
        "\n",
        "    self.W1 = nn.Linear(1 + SOURCE_INPUT_SEQUENCE_LENGTH*SOURCE_LSTM_HIDDEN_SIZE*2 + CAND_REF_INPUT_SEQUENCE_LENGTH*REFERENCE_LSTM_HIDDEN_SIZE*2 + CAND_REF_INPUT_SEQUENCE_LENGTH*CANDIDATE_LSTM_HIDDEN_SIZE*2, FFNN_HIDDEN_SIZE)\n",
        "    self.activation = nn.ReLU()\n",
        "    self.W2 = nn.Linear(FFNN_HIDDEN_SIZE, 1)\n",
        "\n",
        "    self.loss = nn.BCEWithLogitsLoss()\n",
        "    self.softmax = nn.LogSoftmax(dim=1)\n",
        "\n",
        "    if torch.cuda.is_available():\n",
        "      self.source_lstm.cuda()\n",
        "      self.reference_lstm.cuda()\n",
        "      self.candidate_lstm.cuda()\n",
        "      \n",
        "  \n",
        "  def compute_Loss(self, prediction, gold):\n",
        "    return self.loss(prediction, gold)\n",
        "\n",
        "  def forward(self, source, reference, candidate, bleu_score):\n",
        "\n",
        "    this_batch_size = source.size()[0]\n",
        "\n",
        "    hidden_source_layer = autograd.Variable(torch.randn(SOURCE_LSTM_NUM_LAYERS*2, this_batch_size, SOURCE_LSTM_HIDDEN_SIZE)).to(get_device())\n",
        "    cell_source_layer = autograd.Variable(torch.randn(SOURCE_LSTM_NUM_LAYERS*2, this_batch_size, SOURCE_LSTM_HIDDEN_SIZE)).to(get_device())\n",
        "\n",
        "    hidden_reference_layer = autograd.Variable(torch.randn(REFERENCE_LSTM_NUM_LAYERS*2, this_batch_size, REFERENCE_LSTM_HIDDEN_SIZE)).to(get_device())\n",
        "    cell_reference_layer = autograd.Variable(torch.randn(REFERENCE_LSTM_NUM_LAYERS*2, this_batch_size, REFERENCE_LSTM_HIDDEN_SIZE)).to(get_device())\n",
        "\n",
        "    hidden_candidate_layer = autograd.Variable(torch.randn(CANDIDATE_LSTM_NUM_LAYERS*2, this_batch_size, CANDIDATE_LSTM_HIDDEN_SIZE)).to(get_device())\n",
        "    cell_candidate_layer = autograd.Variable(torch.randn(CANDIDATE_LSTM_NUM_LAYERS*2, this_batch_size, CANDIDATE_LSTM_HIDDEN_SIZE)).to(get_device())\n",
        "\n",
        "    source_out, _ = self.source_lstm(source, (hidden_source_layer, cell_source_layer))\n",
        "    source_out = source_out.reshape(source_out.shape[0], -1)\n",
        "\n",
        "    reference_out, _ = self.reference_lstm(reference, (hidden_reference_layer, cell_reference_layer))\n",
        "    reference_out = reference_out.reshape(reference_out.shape[0], -1)\n",
        "\n",
        "    candidate_out, _ = self.candidate_lstm(candidate, (hidden_candidate_layer, cell_candidate_layer))\n",
        "    candidate_out = candidate_out.reshape(candidate_out.shape[0], -1)\n",
        "\n",
        "    cat_vector = torch.cat((bleu_score, source_out, reference_out, candidate_out), dim=1)\n",
        "\n",
        "    z1 = self.W1(cat_vector)\n",
        "    z2 = self.activation(z1)\n",
        "\n",
        "    z3 = self.W2(z2)\n",
        "\n",
        "    predicted_vector = self.softmax(z3)\n",
        "\n",
        "    return predicted_vector\n",
        "\n",
        "  def load_model(self, save_path):\n",
        "    self.load_state_dict(torch.load(save_path))\n",
        "  \n",
        "  def save_model(self, save_path):\n",
        "    torch.save(self.state_dict(), save_path)"
      ],
      "execution_count": 33,
      "outputs": []
    },
    {
      "cell_type": "code",
      "metadata": {
        "id": "LoQPoO9XFd2E"
      },
      "source": [
        "def train_epoch(model, train_loader, optimizer):\n",
        "  model.train()\n",
        "  total_loss = 0\n",
        "  batches = 0\n",
        "  for (source, reference, candidate, bleu_score, label) in tqdm(train_loader, leave=False, desc=\"Training Batches\"):\n",
        "    optimizer.zero_grad()\n",
        "\n",
        "    prediction = model(source.to(get_device()),\n",
        "                       reference.to(get_device()),\n",
        "                       candidate.to(get_device()),\n",
        "                       bleu_score.to(get_device()))\n",
        "\n",
        "    prediction = prediction.squeeze()\n",
        "    \n",
        "    loss = model.compute_Loss(prediction, label)\n",
        "    loss.backward()\n",
        "    # torch.nn.utils.clip_grad_norm_(model.parameters(), 1)\n",
        "    optimizer.step()\n",
        "    # print('Loss:',loss.item())\n",
        "    total_loss += loss.item()\n",
        "\n",
        "    batches += 1\n",
        "\n",
        "  \n",
        "  print('Loss on epoch: ', total_loss/batches)\n",
        "\n",
        "def train_model(number_of_epochs, model, train_loader, lr):\n",
        "  optimizer = optim.SGD(model.parameters(), lr=lr, momentum=0.9)\n",
        "  for epoch in trange(number_of_epochs, desc=\"Epochs\"):\n",
        "    train_epoch(model, train_loader, optimizer)"
      ],
      "execution_count": 34,
      "outputs": []
    },
    {
      "cell_type": "code",
      "metadata": {
        "id": "R0om8zgMZGNX"
      },
      "source": [
        "def test(model, test_loader):\n",
        "  model.eval()\n",
        "  total_correct = 0\n",
        "  total_batches = 0\n",
        "  # let positive be machine\n",
        "  tp_machine = 0\n",
        "  fp_machine = 0\n",
        "  fn_machine = 0\n",
        "  tp_human = 0\n",
        "  fp_human = 0\n",
        "  fn_human = 0\n",
        "  \n",
        "  for (source, reference, candidate, bleu_score, label_batch) in tqdm(test_loader, leave=False, desc=\"Test Batches\"):\n",
        "\n",
        "    prediction_batch = model(source, reference, candidate, bleu_score)\n",
        "    prediction_batch = prediction_batch.squeeze()\n",
        "    print(prediction_batch)\n",
        "    # p = tp / tp + fp\n",
        "    # r = tp / tp + fn\n",
        "    for i, label in enumerate(label_batch):\n",
        "      prediction = prediction_batch[i]\n",
        "      if label == 1 and prediction == 1: #M = 1, H = 0\n",
        "        tp_machine += 1\n",
        "      elif label == 1 and prediction == 0:\n",
        "        fn_machine += 1\n",
        "        fp_human += 1\n",
        "      elif label == 0 and prediction == 1:\n",
        "        fp_machine += 1\n",
        "        fn_human += 1\n",
        "      else: #label == 0 and prediction == 0\n",
        "        tp_human += 1\n",
        "\n",
        "    total_batches += source.size(0)\n",
        "\n",
        "  try:\n",
        "    precision_machine = tp_machine / (tp_machine + fp_machine)\n",
        "    recall_machine = tp_machine / (tp_machine + fn_machine)\n",
        "    f1_machine = (2 * precision_machine * recall_machine) / (precision_machine + recall_machine)\n",
        "  except ZeroDivisionError:\n",
        "    f1_machine = 0\n",
        "\n",
        "  try:\n",
        "    precision_human = tp_human / (tp_human + fp_human)\n",
        "    recall_human = tp_human / (tp_human + fn_human)\n",
        "    f1_human = (2 * precision_human * recall_human) / (precision_human + recall_human)\n",
        "  except ZeroDivisionError:\n",
        "    f1_human = 0\n",
        "  \n",
        "  average_f1 = (f1_machine + f1_human) / 2\n",
        "\n",
        "  return average_f1"
      ],
      "execution_count": 37,
      "outputs": []
    },
    {
      "cell_type": "code",
      "metadata": {
        "colab": {
          "base_uri": "https://localhost:8080/",
          "height": 511,
          "referenced_widgets": [
            "04c57f331b604f8db40e5c52d16c3a68",
            "e1d2446857f54a66a8769369ef1d3eec",
            "3a42ccfaa44349e3b148d870622ddab2",
            "b469ed4e95e142c6b862d3fd21bbf10e",
            "b0d23d56054a40d7865bdd98a3c1b5fe",
            "18aa09590c384b1e9e74a5e84982068d",
            "a8bcafd08524462da3ae88e32ae35d38",
            "3c0e450d9f774547b83c62f5dfc975b7",
            "a6801b5393d043eba1f475ab25034b23",
            "6e6190c3ff0142b0af86c336276b69fa",
            "277abe821041410c991e2cffeae81513",
            "21ebd4cc86ed4e939370b78e77cc1f0b",
            "6eee08f2d8ae48918e0e66165909cd64",
            "88a09b96d454495fa4631ff4ac95fa82",
            "4a5fdd14eddd4348a7cc5908f658f70a",
            "08b6eacb8b044529b8ea1d2748ec2184",
            "2a22caf10c834a8b852e1d4d9e188f3a",
            "9bd7d010f517440c9fe18d75193f6640",
            "6ee434b5cd0f4bd082eb35acf4191305",
            "fe9136ecf0ea49a2b87c50878898f751",
            "da6b61e5eb914fc18d92a8c25bb1c751",
            "7b341e05faa94894855f41e40703f162",
            "c44f03bd5cde43d9b4f72b55531c20db",
            "c15c7c37a89a4ee28e13c1f762ffd787",
            "ec88e1b495f24cac852106e5319906c6",
            "a00131b77ffa4aee8ac0934cad6aa1fc",
            "19b7efac17da4667b0da12cc1edf8fde",
            "39a69172933342749fd093b0872d1f15",
            "f42d03208b0f4382a636d23b3b371072",
            "85a00ca7804740f6b6a16ccd71437db4",
            "b19e1674b02441babc5c7d1ca86ae8bc",
            "585b3089751e4c81acde466798ec9310"
          ]
        },
        "id": "R3yBQiL-ixMo",
        "outputId": "f8c270cf-59c3-4de0-8d94-11b1849e168d"
      },
      "source": [
        "SOURCE_LSTM_HIDDEN_SIZE = 100\n",
        "REFERENCE_LSTM_HIDDEN_SIZE = 100\n",
        "CANDIDATE_LSTM_HIDDEN_SIZE  = 100\n",
        "FFNN_HIDDEN_SIZE = 100\n",
        "SOURCE_LSTM_NUM_LAYERS = 1\n",
        "REFERENCE_LSTM_NUM_LAYERS = 1\n",
        "CANDIDATE_LSTM_NUM_LAYERS = 1\n",
        "\n",
        "classification_model = Classification_Model()\n",
        "train_model(2, classification_model, train_loader, 0.0001)\n",
        "\n",
        "test(classification_model, test_loader)"
      ],
      "execution_count": 38,
      "outputs": [
        {
          "output_type": "display_data",
          "data": {
            "application/vnd.jupyter.widget-view+json": {
              "model_id": "04c57f331b604f8db40e5c52d16c3a68",
              "version_minor": 0,
              "version_major": 2
            },
            "text/plain": [
              "HBox(children=(FloatProgress(value=0.0, description='Epochs', max=2.0, style=ProgressStyle(description_width='…"
            ]
          },
          "metadata": {
            "tags": []
          }
        },
        {
          "output_type": "display_data",
          "data": {
            "application/vnd.jupyter.widget-view+json": {
              "model_id": "a6801b5393d043eba1f475ab25034b23",
              "version_minor": 0,
              "version_major": 2
            },
            "text/plain": [
              "HBox(children=(FloatProgress(value=0.0, description='Training Batches', max=37.0, style=ProgressStyle(descript…"
            ]
          },
          "metadata": {
            "tags": []
          }
        },
        {
          "output_type": "stream",
          "text": [
            "Loss on epoch:  0.6931471824645996\n"
          ],
          "name": "stdout"
        },
        {
          "output_type": "display_data",
          "data": {
            "application/vnd.jupyter.widget-view+json": {
              "model_id": "2a22caf10c834a8b852e1d4d9e188f3a",
              "version_minor": 0,
              "version_major": 2
            },
            "text/plain": [
              "HBox(children=(FloatProgress(value=0.0, description='Training Batches', max=37.0, style=ProgressStyle(descript…"
            ]
          },
          "metadata": {
            "tags": []
          }
        },
        {
          "output_type": "stream",
          "text": [
            "Loss on epoch:  0.6931471824645996\n",
            "\n"
          ],
          "name": "stdout"
        },
        {
          "output_type": "display_data",
          "data": {
            "application/vnd.jupyter.widget-view+json": {
              "model_id": "ec88e1b495f24cac852106e5319906c6",
              "version_minor": 0,
              "version_major": 2
            },
            "text/plain": [
              "HBox(children=(FloatProgress(value=0.0, description='Test Batches', max=11.0, style=ProgressStyle(description_…"
            ]
          },
          "metadata": {
            "tags": []
          }
        },
        {
          "output_type": "stream",
          "text": [
            "tensor([0., 0., 0., 0., 0., 0., 0., 0., 0., 0., 0., 0., 0., 0., 0., 0.],\n",
            "       grad_fn=<SqueezeBackward0>)\n",
            "tensor([0., 0., 0., 0., 0., 0., 0., 0., 0., 0., 0., 0., 0., 0., 0., 0.],\n",
            "       grad_fn=<SqueezeBackward0>)\n",
            "tensor([0., 0., 0., 0., 0., 0., 0., 0., 0., 0., 0., 0., 0., 0., 0., 0.],\n",
            "       grad_fn=<SqueezeBackward0>)\n",
            "tensor([0., 0., 0., 0., 0., 0., 0., 0., 0., 0., 0., 0., 0., 0., 0., 0.],\n",
            "       grad_fn=<SqueezeBackward0>)\n",
            "tensor([0., 0., 0., 0., 0., 0., 0., 0., 0., 0., 0., 0., 0., 0., 0., 0.],\n",
            "       grad_fn=<SqueezeBackward0>)\n",
            "tensor([0., 0., 0., 0., 0., 0., 0., 0., 0., 0., 0., 0., 0., 0., 0., 0.],\n",
            "       grad_fn=<SqueezeBackward0>)\n",
            "tensor([0., 0., 0., 0., 0., 0., 0., 0., 0., 0., 0., 0., 0., 0., 0., 0.],\n",
            "       grad_fn=<SqueezeBackward0>)\n",
            "tensor([0., 0., 0., 0., 0., 0., 0., 0., 0., 0., 0., 0., 0., 0., 0., 0.],\n",
            "       grad_fn=<SqueezeBackward0>)\n",
            "tensor([0., 0., 0., 0., 0., 0., 0., 0., 0., 0., 0., 0., 0., 0., 0., 0.],\n",
            "       grad_fn=<SqueezeBackward0>)\n",
            "tensor([0., 0., 0., 0., 0., 0., 0., 0., 0., 0., 0., 0., 0., 0., 0., 0.],\n",
            "       grad_fn=<SqueezeBackward0>)\n",
            "tensor([0., 0., 0., 0., 0., 0., 0., 0., 0., 0., 0., 0., 0., 0.],\n",
            "       grad_fn=<SqueezeBackward0>)\n"
          ],
          "name": "stdout"
        },
        {
          "output_type": "execute_result",
          "data": {
            "text/plain": [
              "0.3458646616541354"
            ]
          },
          "metadata": {
            "tags": []
          },
          "execution_count": 38
        }
      ]
    },
    {
      "cell_type": "markdown",
      "metadata": {
        "id": "8ZrZIe6XRrWd"
      },
      "source": [
        "Average F1-Score: 0.346"
      ]
    }
  ]
}